{
 "cells": [
  {
   "cell_type": "markdown",
   "metadata": {},
   "source": [
    "# JupyterLab Demos\n",
    "\n",
    "- Demo 1: Uploading Data to the platform via JupyterLab\n",
    "- Demo 2: Connecting to available databases on the data science platform\n",
    "- Demo 3: Extracting your output from the platform\n",
    "\n",
    "\n",
    "## Demo 1: Upload & Use Dataset\n"
   ]
  },
  {
   "cell_type": "markdown",
   "metadata": {},
   "source": [
    "#### Step 1: Download CSV file from https://www.uktradeinfo.com/Statistics/Pages/DataDownloads.aspx -> Current month -> Traders Files -> Importers\n",
    "\n",
    "To upload data you need to ensure it is stored somewhere. I.e. you can find it via file explorer, this includes sharepoint, onedrive and your local pc. For our demo we download data from the hmrc website and store it on our local machines. \n",
    "\n",
    "<img src=\"/templates/demo1s1.png\" alt=\"Drawing\" style=\"width: 600px;\" align=\"center\"/>\n",
    "\n",
    "#### Step 2: Unzip the CSV\n",
    "\n",
    "#### Step 3: Create data Folder (/data) & Step 4: Upload CSV in data folder\n",
    "\n",
    "After logging in to the platform via this link: https://data.trade.gov.uk/, the screen below should appear in your browser. On the far left it shows whatever files/folders you already have saved in your personal workspace. If you don't see this screen you should be able to click on the file browser tab.\n",
    "\n",
    "You can either upload a file straight into here or create a folder to store it in. We create a folder called ‘data’ to store it in.\n",
    "To do this click the button to create an untitled folder, this can easily be renamed by right clicking and selecting rename. Next you can navigate to the folder and upload the CSV from step 2 using the upload button.\n",
    "\n",
    "<img src=\"/templates/demo1s3-4.png\" alt=\"Drawing\" style=\"width: 600px;\" align=\"center\"/>\n",
    "\n",
    "#### Step 4: Load dataset in Dataframe\n"
   ]
  },
  {
   "cell_type": "code",
   "execution_count": 5,
   "metadata": {},
   "outputs": [],
   "source": [
    "df <- read.csv('data/importers1906..txt', header=F, row.names=NULL, sep='\\t')"
   ]
  },
  {
   "cell_type": "markdown",
   "metadata": {},
   "source": [
    "#### Step 5: Check results"
   ]
  },
  {
   "cell_type": "code",
   "execution_count": 2,
   "metadata": {},
   "outputs": [
    {
     "data": {
      "text/html": [
       "<table>\n",
       "<thead><tr><th scope=col>V1</th><th scope=col>V2</th><th scope=col>V3</th><th scope=col>V4</th><th scope=col>V5</th><th scope=col>V6</th><th scope=col>V7</th><th scope=col>V8</th><th scope=col>V9</th><th scope=col>V10</th><th scope=col>⋯</th><th scope=col>V50</th><th scope=col>V51</th><th scope=col>V52</th><th scope=col>V53</th><th scope=col>V54</th><th scope=col>V55</th><th scope=col>V56</th><th scope=col>V57</th><th scope=col>V58</th><th scope=col>V59</th></tr></thead>\n",
       "<tbody>\n",
       "\t<tr><td>201906                 </td><td>1                      </td><td>MARK PRICE TEXTILES    </td><td>''TWO HOOTS''          </td><td>MELTON ROAD            </td><td>HICKLING PASTURES      </td><td>LEICESTER              </td><td>                       </td><td>LE14 3QG               </td><td>58064000               </td><td><U+22EF>               </td><td>NA                     </td><td>NA                     </td><td>NA                     </td><td>NA                     </td><td>NA                     </td><td>NA                     </td><td>NA                     </td><td>NA                     </td><td>NA                     </td><td>NA                     </td></tr>\n",
       "\t<tr><td>201906                 </td><td>1                      </td><td>PETER GRAHAM WHITEHEAD </td><td>'A' HANGAR             </td><td>SLEAP AIRFIELD         </td><td>HARMER HILL            </td><td>SHREWSBURY             </td><td>                       </td><td>SY4 3HE                </td><td>84812010               </td><td><U+22EF>               </td><td>NA                     </td><td>NA                     </td><td>NA                     </td><td>NA                     </td><td>NA                     </td><td>NA                     </td><td>NA                     </td><td>NA                     </td><td>NA                     </td><td>NA                     </td></tr>\n",
       "\t<tr><td>201906                                                   </td><td>1                                                        </td><td>F D COPELAND &amp; SONS LTD                              </td><td>'COLANOL HOUSE'                                          </td><td>5 WESTFIELD STREET                                       </td><td><span style=white-space:pre-wrap>WOOLWICH         </span></td><td><span style=white-space:pre-wrap>LONDON    </span>       </td><td>                                                         </td><td>SE18 5TL                                                 </td><td>29052990                                                 </td><td><U+22EF>                                                 </td><td>NA                                                       </td><td>NA                                                       </td><td>NA                                                       </td><td>NA                                                       </td><td>NA                                                       </td><td>NA                                                       </td><td>NA                                                       </td><td>NA                                                       </td><td>NA                                                       </td><td>NA                                                       </td></tr>\n",
       "\t<tr><td>201906                 </td><td>1                      </td><td>FESTIVE PRODUCTIONS LTD</td><td>'OTTERS BROOK'         </td><td>TY COCH WAY            </td><td>CWMBRAN                </td><td>                       </td><td>                       </td><td>NP44 7XE               </td><td>39199080               </td><td><U+22EF>               </td><td>NA                     </td><td>NA                     </td><td>NA                     </td><td>NA                     </td><td>NA                     </td><td>NA                     </td><td>NA                     </td><td>NA                     </td><td>NA                     </td><td>NA                     </td></tr>\n",
       "\t<tr><td>201906                 </td><td>1                      </td><td>MAHALINGAM PARTHIPAN   </td><td>04 BEFORD ROAD         </td><td>EASTHAM                </td><td>LONDON                 </td><td>                       </td><td>                       </td><td>E6 2NN                 </td><td>       3               </td><td><U+22EF>               </td><td>NA                     </td><td>NA                     </td><td>NA                     </td><td>NA                     </td><td>NA                     </td><td>NA                     </td><td>NA                     </td><td>NA                     </td><td>NA                     </td><td>NA                     </td></tr>\n",
       "</tbody>\n",
       "</table>\n"
      ],
      "text/latex": [
       "\\begin{tabular}{r|lllllllllllllllllllllllllllllllllllllllllllllllllllllllllll}\n",
       " V1 & V2 & V3 & V4 & V5 & V6 & V7 & V8 & V9 & V10 & ⋯ & V50 & V51 & V52 & V53 & V54 & V55 & V56 & V57 & V58 & V59\\\\\n",
       "\\hline\n",
       "\t 201906                  & 1                       & MARK PRICE TEXTILES     & ''TWO HOOTS''           & MELTON ROAD             & HICKLING PASTURES       & LEICESTER               &                         & LE14 3QG                & 58064000                & <U+22EF>                & NA                      & NA                      & NA                      & NA                      & NA                      & NA                      & NA                      & NA                      & NA                      & NA                     \\\\\n",
       "\t 201906                  & 1                       & PETER GRAHAM WHITEHEAD  & 'A' HANGAR              & SLEAP AIRFIELD          & HARMER HILL             & SHREWSBURY              &                         & SY4 3HE                 & 84812010                & <U+22EF>                & NA                      & NA                      & NA                      & NA                      & NA                      & NA                      & NA                      & NA                      & NA                      & NA                     \\\\\n",
       "\t 201906                    & 1                         & F D COPELAND \\& SONS LTD & 'COLANOL HOUSE'           & 5 WESTFIELD STREET        & WOOLWICH                  & LONDON                    &                           & SE18 5TL                  & 29052990                  & <U+22EF>                  & NA                        & NA                        & NA                        & NA                        & NA                        & NA                        & NA                        & NA                        & NA                        & NA                       \\\\\n",
       "\t 201906                  & 1                       & FESTIVE PRODUCTIONS LTD & 'OTTERS BROOK'          & TY COCH WAY             & CWMBRAN                 &                         &                         & NP44 7XE                & 39199080                & <U+22EF>                & NA                      & NA                      & NA                      & NA                      & NA                      & NA                      & NA                      & NA                      & NA                      & NA                     \\\\\n",
       "\t 201906                  & 1                       & MAHALINGAM PARTHIPAN    & 04 BEFORD ROAD          & EASTHAM                 & LONDON                  &                         &                         & E6 2NN                  &        3                & <U+22EF>                & NA                      & NA                      & NA                      & NA                      & NA                      & NA                      & NA                      & NA                      & NA                      & NA                     \\\\\n",
       "\\end{tabular}\n"
      ],
      "text/markdown": [
       "\n",
       "V1 | V2 | V3 | V4 | V5 | V6 | V7 | V8 | V9 | V10 | ⋯ | V50 | V51 | V52 | V53 | V54 | V55 | V56 | V57 | V58 | V59 | \n",
       "|---|---|---|---|---|\n",
       "| 201906                  | 1                       | MARK PRICE TEXTILES     | ''TWO HOOTS''           | MELTON ROAD             | HICKLING PASTURES       | LEICESTER               |                         | LE14 3QG                | 58064000                | <U+22EF>                | NA                      | NA                      | NA                      | NA                      | NA                      | NA                      | NA                      | NA                      | NA                      | NA                      | \n",
       "| 201906                  | 1                       | PETER GRAHAM WHITEHEAD  | 'A' HANGAR              | SLEAP AIRFIELD          | HARMER HILL             | SHREWSBURY              |                         | SY4 3HE                 | 84812010                | <U+22EF>                | NA                      | NA                      | NA                      | NA                      | NA                      | NA                      | NA                      | NA                      | NA                      | NA                      | \n",
       "| 201906                  | 1                       | F D COPELAND & SONS LTD | 'COLANOL HOUSE'         | 5 WESTFIELD STREET      | WOOLWICH                | LONDON                  |                         | SE18 5TL                | 29052990                | <U+22EF>                | NA                      | NA                      | NA                      | NA                      | NA                      | NA                      | NA                      | NA                      | NA                      | NA                      | \n",
       "| 201906                  | 1                       | FESTIVE PRODUCTIONS LTD | 'OTTERS BROOK'          | TY COCH WAY             | CWMBRAN                 |                         |                         | NP44 7XE                | 39199080                | <U+22EF>                | NA                      | NA                      | NA                      | NA                      | NA                      | NA                      | NA                      | NA                      | NA                      | NA                      | \n",
       "| 201906                  | 1                       | MAHALINGAM PARTHIPAN    | 04 BEFORD ROAD          | EASTHAM                 | LONDON                  |                         |                         | E6 2NN                  |        3                | <U+22EF>                | NA                      | NA                      | NA                      | NA                      | NA                      | NA                      | NA                      | NA                      | NA                      | NA                      | \n",
       "\n",
       "\n"
      ],
      "text/plain": [
       "  V1     V2 V3                      V4              V5                \n",
       "1 201906 1  MARK PRICE TEXTILES     ''TWO HOOTS''   MELTON ROAD       \n",
       "2 201906 1  PETER GRAHAM WHITEHEAD  'A' HANGAR      SLEAP AIRFIELD    \n",
       "3 201906 1  F D COPELAND & SONS LTD 'COLANOL HOUSE' 5 WESTFIELD STREET\n",
       "4 201906 1  FESTIVE PRODUCTIONS LTD 'OTTERS BROOK'  TY COCH WAY       \n",
       "5 201906 1  MAHALINGAM PARTHIPAN    04 BEFORD ROAD  EASTHAM           \n",
       "  V6                V7         V8 V9       V10      <U+22EF>   V50 V51 V52 V53\n",
       "1 HICKLING PASTURES LEICESTER     LE14 3QG 58064000 <U+22EF> NA  NA  NA  NA \n",
       "2 HARMER HILL       SHREWSBURY    SY4 3HE  84812010 <U+22EF> NA  NA  NA  NA \n",
       "3 WOOLWICH          LONDON        SE18 5TL 29052990 <U+22EF> NA  NA  NA  NA \n",
       "4 CWMBRAN                         NP44 7XE 39199080 <U+22EF> NA  NA  NA  NA \n",
       "5 LONDON                          E6 2NN          3 <U+22EF> NA  NA  NA  NA \n",
       "  V54 V55 V56 V57 V58 V59\n",
       "1 NA  NA  NA  NA  NA  NA \n",
       "2 NA  NA  NA  NA  NA  NA \n",
       "3 NA  NA  NA  NA  NA  NA \n",
       "4 NA  NA  NA  NA  NA  NA \n",
       "5 NA  NA  NA  NA  NA  NA "
      ]
     },
     "metadata": {},
     "output_type": "display_data"
    }
   ],
   "source": [
    "head(df, 5)"
   ]
  },
  {
   "cell_type": "markdown",
   "metadata": {},
   "source": [
    "## Demo 2: Connect to the database\n",
    "\n",
    "Many of the datasets are very large. To avoid overloading the notebook's memory it is adviced to filter the data on the database level instead of loading everything in the notebooks and then manipulating the data. To do this filters, limit, aggregation, etc can be used in SQL."
   ]
  },
  {
   "cell_type": "markdown",
   "metadata": {},
   "source": [
    "#### Step 1: Connect to database\n",
    "\n",
    "To start working with the DB, a database connection string needs to be loaded. This can be done by clicking the DB icon in JupyterHub.  \n",
    "    \n",
    "<img src=\"/templates/demo3s1.png\" alt=\"Drawing\" style=\"width: 800px;\"/>\n",
    "\n",
    "#### Step 2: Check connection \n",
    "\n",
    "The connection strings you have permissions for will shown in the output.\n",
    "        "
   ]
  },
  {
   "cell_type": "code",
   "execution_count": 1,
   "metadata": {},
   "outputs": [
    {
     "name": "stdout",
     "output_type": "stream",
     "text": [
      "[1] \"You now have 1 database connections:\"\n",
      "[1] \" conn_datasets_1\"\n"
     ]
    }
   ],
   "source": [
    "library(stringr)\n",
    "library(DBI)\n",
    "getConn <- function(dsn) {\n",
    "  user <- str_match(dsn, \"user=([a-z0-9_]+)\")[2]\n",
    "  password <- str_match(dsn, \"password=([a-zA-Z0-9_]+)\")[2]\n",
    "  port <- str_match(dsn, \"port=(\\\\d+)\")[2]\n",
    "  dbname <- str_match(dsn, \"dbname=([a-z0-9_\\\\-]+)\")[2]\n",
    "  host <- str_match(dsn, \"host=([a-z0-9_\\\\-\\\\.]+)\")[2]\n",
    "  con <- dbConnect(RPostgres::Postgres(), user=user, password=password, host=host, port=port, dbname=dbname)\n",
    "  return(con)\n",
    "}\n",
    "isDsn <- function(name) {\n",
    "  return(startsWith(name, \"DATABASE_DSN__\"))\n",
    "}\n",
    "niceName <- function(name) {\n",
    "  return(substring(name, 15))\n",
    "}\n",
    "env = Sys.getenv(names=TRUE)\n",
    "dsns <- env[Vectorize(isDsn)(names(env))]\n",
    "conn <- Vectorize(getConn)(unname(dsns))\n",
    "names(conn) <- Vectorize(niceName)(names(dsns))\n",
    "print(paste(\"You now have\", as.character(length(conn)), \"database connections:\", sep=\" \"))\n",
    "for (name in names(conn)) {\n",
    "  var_name <- paste(\"conn\", name, sep=\"_\")\n",
    "  assign(var_name, conn[[c(name)]])\n",
    "  print(paste(\" \", var_name, sep=\"\"))\n",
    "}\n",
    "rm(conn,getConn,isDsn,niceName,env,dsns)"
   ]
  },
  {
   "cell_type": "code",
   "execution_count": 6,
   "metadata": {},
   "outputs": [
    {
     "name": "stdout",
     "output_type": "stream",
     "text": [
      "[1] \"You now have 1 database connections:\"\n",
      "[1] \" conn_datasets_1\"\n"
     ]
    }
   ],
   "source": [
    "library(stringr)\n",
    "library(DBI)\n",
    "getConn <- function(dsn) {\n",
    "  user <- str_match(dsn, \"user=([a-z0-9_]+)\")[2]\n",
    "  password <- str_match(dsn, \"password=([a-zA-Z0-9_]+)\")[2]\n",
    "  port <- str_match(dsn, \"port=(\\\\d+)\")[2]\n",
    "  dbname <- str_match(dsn, \"dbname=([a-z0-9_\\\\-]+)\")[2]\n",
    "  host <- str_match(dsn, \"host=([a-z0-9_\\\\-\\\\.]+)\")[2]\n",
    "  con <- dbConnect(RPostgres::Postgres(), user=user, password=password, host=host, port=port, dbname=dbname)\n",
    "  return(con)\n",
    "}\n",
    "isDsn <- function(name) {\n",
    "  return(startsWith(name, \"DATABASE_DSN__\"))\n",
    "}\n",
    "niceName <- function(name) {\n",
    "  return(substring(name, 15))\n",
    "}\n",
    "env = Sys.getenv(names=TRUE)\n",
    "dsns <- env[Vectorize(isDsn)(names(env))]\n",
    "conn <- Vectorize(getConn)(unname(dsns))\n",
    "names(conn) <- Vectorize(niceName)(names(dsns))\n",
    "print(paste(\"You now have\", as.character(length(conn)), \"database connections:\", sep=\" \"))\n",
    "for (name in names(conn)) {\n",
    "  var_name <- paste(\"conn\", name, sep=\"_\")\n",
    "  assign(var_name, conn[[c(name)]])\n",
    "  print(paste(\" \", var_name, sep=\"\"))\n",
    "}\n",
    "rm(conn,getConn,isDsn,niceName,env,dsns)"
   ]
  },
  {
   "cell_type": "markdown",
   "metadata": {},
   "source": [
    "#### Step 3: Retrieve data from the DB using SQL\n",
    "\n",
    "##### Step 3.1: Get all available tables\n",
    "\n",
    "In a database, tables are organised within schemas. A database may have one or more schemas, and each one of these may have many tables. In PostgreSQL, the default schema is called 'public', and we will use it in the following examples."
   ]
  },
  {
   "cell_type": "code",
   "execution_count": 4,
   "metadata": {},
   "outputs": [
    {
     "data": {
      "text/html": [
       "<table>\n",
       "<thead><tr><th scope=col>table</th><th scope=col>is_prefix</th></tr></thead>\n",
       "<tbody>\n",
       "\t<tr><td><span style=white-space:pre-wrap>                       &lt;Id&gt; schema = ons.gdp_components</span></td><td>TRUE                                                                                                 </td></tr>\n",
       "\t<tr><td><span style=white-space:pre-wrap>      &lt;Id&gt; schema = ons.trade_in_goods.part_2.quarterly</span></td><td>TRUE                                                                                                 </td></tr>\n",
       "\t<tr><td><span style=white-space:pre-wrap>  &lt;Id&gt; schema = ons.uk_economic_accounts.part_6.monthly</span></td><td>TRUE                                                                                                 </td></tr>\n",
       "\t<tr><td><span style=white-space:pre-wrap>           &lt;Id&gt; schema = ons.pink_book.part_1.quarterly</span></td><td>TRUE                                                                                                 </td></tr>\n",
       "\t<tr><td><span style=white-space:pre-wrap>          &lt;Id&gt; schema = ons.uk_economic_accounts.part_5</span></td><td>TRUE                                                                                                 </td></tr>\n",
       "\t<tr><td>&lt;Id&gt; schema = ons.uk_economic_accounts.part_6.quarterly</td><td>TRUE                                                         </td></tr>\n",
       "\t<tr><td><span style=white-space:pre-wrap>             &lt;Id&gt; schema = ons.pink_book.part_3.monthly</span></td><td>TRUE                                                                                                 </td></tr>\n",
       "\t<tr><td><span style=white-space:pre-wrap>              &lt;Id&gt; schema = unctad.fdi.inward_stock_usd</span></td><td>TRUE                                                                                                 </td></tr>\n",
       "\t<tr><td><span style=white-space:pre-wrap>         &lt;Id&gt; schema = ons.trade_in_goods.part_2.yearly</span></td><td>TRUE                                                                                                 </td></tr>\n",
       "\t<tr><td><span style=white-space:pre-wrap>          &lt;Id&gt; schema = ons.uk_economic_accounts.part_3</span></td><td>TRUE                                                                                                 </td></tr>\n",
       "\t<tr><td><span style=white-space:pre-wrap>                     &lt;Id&gt; schema = ons.pink_book.part_2</span></td><td>TRUE                                                                                                 </td></tr>\n",
       "\t<tr><td><span style=white-space:pre-wrap>              &lt;Id&gt; schema = unctad.fdi.outward_flow_usd</span></td><td>TRUE                                                                                                 </td></tr>\n",
       "\t<tr><td><span style=white-space:pre-wrap>             &lt;Id&gt; schema = unctad.fdi.outward_stock_gdp</span></td><td>TRUE                                                                                                 </td></tr>\n",
       "\t<tr><td><span style=white-space:pre-wrap>          &lt;Id&gt; schema = ons.uk_economic_accounts.part_1</span></td><td>TRUE                                                                                                 </td></tr>\n",
       "\t<tr><td><span style=white-space:pre-wrap>             &lt;Id&gt; schema = ons.pink_book.part_1.monthly</span></td><td>TRUE                                                                                                 </td></tr>\n",
       "\t<tr><td><span style=white-space:pre-wrap>          &lt;Id&gt; schema = ons.uk_economic_accounts.part_2</span></td><td>TRUE                                                                                                 </td></tr>\n",
       "\t<tr><td><span style=white-space:pre-wrap>               &lt;Id&gt; schema = unctad.fdi.inward_flow_usd</span></td><td>TRUE                                                                                                 </td></tr>\n",
       "\t<tr><td><span style=white-space:pre-wrap>  &lt;Id&gt; schema = ons.uk_economic_accounts.part_3.monthly</span></td><td>TRUE                                                                                                 </td></tr>\n",
       "\t<tr><td><span style=white-space:pre-wrap>          &lt;Id&gt; schema = ons.national_accounts.quarterly</span></td><td>TRUE                                                                                                 </td></tr>\n",
       "\t<tr><td><span style=white-space:pre-wrap>          &lt;Id&gt; schema = ons.uk_economic_accounts.part_4</span></td><td>TRUE                                                                                                 </td></tr>\n",
       "\t<tr><td>&lt;Id&gt; schema = ons.uk_economic_accounts.part_3.quarterly</td><td>TRUE                                                         </td></tr>\n",
       "\t<tr><td><span style=white-space:pre-wrap>   &lt;Id&gt; schema = ons.uk_economic_accounts.part_6.yearly</span></td><td>TRUE                                                                                                 </td></tr>\n",
       "\t<tr><td><span style=white-space:pre-wrap>                           &lt;Id&gt; schema = hmrc.exporters</span></td><td>TRUE                                                                                                 </td></tr>\n",
       "\t<tr><td><span style=white-space:pre-wrap>            &lt;Id&gt; schema = worldbank.ease_doing_business</span></td><td>TRUE                                                                                                 </td></tr>\n",
       "\t<tr><td><span style=white-space:pre-wrap>                              &lt;Id&gt; schema = hmrc.smke19</span></td><td>TRUE                                                                                                 </td></tr>\n",
       "\t<tr><td><span style=white-space:pre-wrap>              &lt;Id&gt; schema = unctad.fdi.inward_stock_gdp</span></td><td>TRUE                                                                                                 </td></tr>\n",
       "\t<tr><td><span style=white-space:pre-wrap>        &lt;Id&gt; schema = ons.balance_of_payments.quarterly</span></td><td>TRUE                                                                                                 </td></tr>\n",
       "\t<tr><td><span style=white-space:pre-wrap>         &lt;Id&gt; schema = ons.trade_in_goods.part_1.yearly</span></td><td>TRUE                                                                                                 </td></tr>\n",
       "\t<tr><td><span style=white-space:pre-wrap>             &lt;Id&gt; schema = ons.pink_book.part_4.monthly</span></td><td>TRUE                                                                                                 </td></tr>\n",
       "\t<tr><td>&lt;Id&gt; schema = ons.uk_economic_accounts.part_1.quarterly</td><td>TRUE                                                         </td></tr>\n",
       "\t<tr><td><U+22EE></td><td><U+22EE></td></tr>\n",
       "\t<tr><td><span style=white-space:pre-wrap>                      &lt;Id&gt; schema = hmrc.importers.f1_0</span></td><td>TRUE                                                                                                 </td></tr>\n",
       "\t<tr><td><span style=white-space:pre-wrap>              &lt;Id&gt; schema = unctad.fdi.outward_flow_gdp</span></td><td>TRUE                                                                                                 </td></tr>\n",
       "\t<tr><td><span style=white-space:pre-wrap>             &lt;Id&gt; schema = ons.national_accounts.yearly</span></td><td>TRUE                                                                                                 </td></tr>\n",
       "\t<tr><td><span style=white-space:pre-wrap>              &lt;Id&gt; schema = ons.pink_book.part_3.yearly</span></td><td>TRUE                                                                                                 </td></tr>\n",
       "\t<tr><td><span style=white-space:pre-wrap>           &lt;Id&gt; schema = ons.balance_of_payments.yearly</span></td><td>TRUE                                                                                                 </td></tr>\n",
       "\t<tr><td><span style=white-space:pre-wrap>              &lt;Id&gt; schema = ons.pink_book.part_1.yearly</span></td><td>TRUE                                                                                                 </td></tr>\n",
       "\t<tr><td><span style=white-space:pre-wrap>           &lt;Id&gt; schema = ons.pink_book.part_2.quarterly</span></td><td>TRUE                                                                                                 </td></tr>\n",
       "\t<tr><td>&lt;Id&gt; schema = ons.uk_economic_accounts.part_2.quarterly</td><td>TRUE                                                         </td></tr>\n",
       "\t<tr><td><span style=white-space:pre-wrap>            &lt;Id&gt; schema = ons.national_accounts.monthly</span></td><td>TRUE                                                                                                 </td></tr>\n",
       "\t<tr><td><span style=white-space:pre-wrap>                     &lt;Id&gt; schema = ons.pink_book.part_3</span></td><td>TRUE                                                                                                 </td></tr>\n",
       "\t<tr><td><span style=white-space:pre-wrap>                                &lt;Id&gt; schema = oecd.tiva</span></td><td>TRUE                                                                                                 </td></tr>\n",
       "\t<tr><td><span style=white-space:pre-wrap>   &lt;Id&gt; schema = ons.uk_economic_accounts.part_2.yearly</span></td><td>TRUE                                                                                                 </td></tr>\n",
       "\t<tr><td><span style=white-space:pre-wrap>              &lt;Id&gt; schema = ons.pink_book.part_4.yearly</span></td><td>TRUE                                                                                                 </td></tr>\n",
       "\t<tr><td><span style=white-space:pre-wrap>             &lt;Id&gt; schema = unctad.fdi.outward_stock_usd</span></td><td>TRUE                                                                                                 </td></tr>\n",
       "\t<tr><td><span style=white-space:pre-wrap>  &lt;Id&gt; schema = ons.uk_economic_accounts.part_5.monthly</span></td><td>TRUE                                                                                                 </td></tr>\n",
       "\t<tr><td><span style=white-space:pre-wrap>   &lt;Id&gt; schema = ons.uk_economic_accounts.part_3.yearly</span></td><td>TRUE                                                                                                 </td></tr>\n",
       "\t<tr><td><span style=white-space:pre-wrap>           &lt;Id&gt; schema = ons.pink_book.part_3.quarterly</span></td><td>TRUE                                                                                                 </td></tr>\n",
       "\t<tr><td><span style=white-space:pre-wrap>                &lt;Id&gt; schema = ons.trade_in_goods.part_1</span></td><td>TRUE                                                                                                 </td></tr>\n",
       "\t<tr><td><span style=white-space:pre-wrap>  &lt;Id&gt; schema = ons.uk_economic_accounts.part_2.monthly</span></td><td>TRUE                                                                                                 </td></tr>\n",
       "\t<tr><td><span style=white-space:pre-wrap>                       &lt;Id&gt; schema = worldbank.wits_ntm</span></td><td>TRUE                                                                                                 </td></tr>\n",
       "\t<tr><td><span style=white-space:pre-wrap>   &lt;Id&gt; schema = ons.uk_economic_accounts.part_4.yearly</span></td><td>TRUE                                                                                                 </td></tr>\n",
       "\t<tr><td><span style=white-space:pre-wrap>   &lt;Id&gt; schema = ons.uk_economic_accounts.part_1.yearly</span></td><td>TRUE                                                                                                 </td></tr>\n",
       "\t<tr><td><span style=white-space:pre-wrap>        &lt;Id&gt; schema = ons.trade_in_goods.part_1.monthly</span></td><td>TRUE                                                                                                 </td></tr>\n",
       "\t<tr><td><span style=white-space:pre-wrap>                &lt;Id&gt; schema = ons.trade_in_goods.part_2</span></td><td>TRUE                                                                                                 </td></tr>\n",
       "\t<tr><td><span style=white-space:pre-wrap>                              &lt;Id&gt; schema = hmrc.smkm46</span></td><td>TRUE                                                                                                 </td></tr>\n",
       "\t<tr><td><span style=white-space:pre-wrap>                    &lt;Id&gt; schema = ons.national_accounts</span></td><td>TRUE                                                                                                 </td></tr>\n",
       "\t<tr><td><span style=white-space:pre-wrap>                              &lt;Id&gt; schema = hmrc.smki19</span></td><td>TRUE                                                                                                 </td></tr>\n",
       "\t<tr><td><span style=white-space:pre-wrap>      &lt;Id&gt; schema = ons.trade_in_goods.part_1.quarterly</span></td><td>TRUE                                                                                                 </td></tr>\n",
       "\t<tr><td><span style=white-space:pre-wrap>               &lt;Id&gt; schema = unctad.fdi.inward_flow_gdp</span></td><td>TRUE                                                                                                 </td></tr>\n",
       "\t<tr><td><span style=white-space:pre-wrap>          &lt;Id&gt; schema = ons.balance_of_payments.monthly</span></td><td>TRUE                                                                                                 </td></tr>\n",
       "</tbody>\n",
       "</table>\n"
      ],
      "text/latex": [
       "\\begin{tabular}{r|ll}\n",
       " table & is\\_prefix\\\\\n",
       "\\hline\n",
       "\t                        <Id> schema = ons.gdp\\_components & TRUE                                                     \\\\\n",
       "\t       <Id> schema = ons.trade\\_in\\_goods.part\\_2.quarterly & TRUE                                                         \\\\\n",
       "\t   <Id> schema = ons.uk\\_economic\\_accounts.part\\_6.monthly & TRUE                                                         \\\\\n",
       "\t            <Id> schema = ons.pink\\_book.part\\_1.quarterly & TRUE                                                       \\\\\n",
       "\t           <Id> schema = ons.uk\\_economic\\_accounts.part\\_5 & TRUE                                                         \\\\\n",
       "\t <Id> schema = ons.uk\\_economic\\_accounts.part\\_6.quarterly & TRUE                                                         \\\\\n",
       "\t              <Id> schema = ons.pink\\_book.part\\_3.monthly & TRUE                                                       \\\\\n",
       "\t               <Id> schema = unctad.fdi.inward\\_stock\\_usd & TRUE                                                       \\\\\n",
       "\t          <Id> schema = ons.trade\\_in\\_goods.part\\_2.yearly & TRUE                                                         \\\\\n",
       "\t           <Id> schema = ons.uk\\_economic\\_accounts.part\\_3 & TRUE                                                         \\\\\n",
       "\t                      <Id> schema = ons.pink\\_book.part\\_2 & TRUE                                                       \\\\\n",
       "\t               <Id> schema = unctad.fdi.outward\\_flow\\_usd & TRUE                                                       \\\\\n",
       "\t              <Id> schema = unctad.fdi.outward\\_stock\\_gdp & TRUE                                                       \\\\\n",
       "\t           <Id> schema = ons.uk\\_economic\\_accounts.part\\_1 & TRUE                                                         \\\\\n",
       "\t              <Id> schema = ons.pink\\_book.part\\_1.monthly & TRUE                                                       \\\\\n",
       "\t           <Id> schema = ons.uk\\_economic\\_accounts.part\\_2 & TRUE                                                         \\\\\n",
       "\t                <Id> schema = unctad.fdi.inward\\_flow\\_usd & TRUE                                                       \\\\\n",
       "\t   <Id> schema = ons.uk\\_economic\\_accounts.part\\_3.monthly & TRUE                                                         \\\\\n",
       "\t           <Id> schema = ons.national\\_accounts.quarterly & TRUE                                                     \\\\\n",
       "\t           <Id> schema = ons.uk\\_economic\\_accounts.part\\_4 & TRUE                                                         \\\\\n",
       "\t <Id> schema = ons.uk\\_economic\\_accounts.part\\_3.quarterly & TRUE                                                         \\\\\n",
       "\t    <Id> schema = ons.uk\\_economic\\_accounts.part\\_6.yearly & TRUE                                                         \\\\\n",
       "\t                            <Id> schema = hmrc.exporters & TRUE                                                   \\\\\n",
       "\t             <Id> schema = worldbank.ease\\_doing\\_business & TRUE                                                       \\\\\n",
       "\t                               <Id> schema = hmrc.smke19 & TRUE                                                   \\\\\n",
       "\t               <Id> schema = unctad.fdi.inward\\_stock\\_gdp & TRUE                                                       \\\\\n",
       "\t         <Id> schema = ons.balance\\_of\\_payments.quarterly & TRUE                                                       \\\\\n",
       "\t          <Id> schema = ons.trade\\_in\\_goods.part\\_1.yearly & TRUE                                                         \\\\\n",
       "\t              <Id> schema = ons.pink\\_book.part\\_4.monthly & TRUE                                                       \\\\\n",
       "\t <Id> schema = ons.uk\\_economic\\_accounts.part\\_1.quarterly & TRUE                                                         \\\\\n",
       "\t <U+22EE> & <U+22EE>\\\\\n",
       "\t                       <Id> schema = hmrc.importers.f1\\_0 & TRUE                                                     \\\\\n",
       "\t               <Id> schema = unctad.fdi.outward\\_flow\\_gdp & TRUE                                                       \\\\\n",
       "\t              <Id> schema = ons.national\\_accounts.yearly & TRUE                                                     \\\\\n",
       "\t               <Id> schema = ons.pink\\_book.part\\_3.yearly & TRUE                                                       \\\\\n",
       "\t            <Id> schema = ons.balance\\_of\\_payments.yearly & TRUE                                                       \\\\\n",
       "\t               <Id> schema = ons.pink\\_book.part\\_1.yearly & TRUE                                                       \\\\\n",
       "\t            <Id> schema = ons.pink\\_book.part\\_2.quarterly & TRUE                                                       \\\\\n",
       "\t <Id> schema = ons.uk\\_economic\\_accounts.part\\_2.quarterly & TRUE                                                         \\\\\n",
       "\t             <Id> schema = ons.national\\_accounts.monthly & TRUE                                                     \\\\\n",
       "\t                      <Id> schema = ons.pink\\_book.part\\_3 & TRUE                                                       \\\\\n",
       "\t                                 <Id> schema = oecd.tiva & TRUE                                                   \\\\\n",
       "\t    <Id> schema = ons.uk\\_economic\\_accounts.part\\_2.yearly & TRUE                                                         \\\\\n",
       "\t               <Id> schema = ons.pink\\_book.part\\_4.yearly & TRUE                                                       \\\\\n",
       "\t              <Id> schema = unctad.fdi.outward\\_stock\\_usd & TRUE                                                       \\\\\n",
       "\t   <Id> schema = ons.uk\\_economic\\_accounts.part\\_5.monthly & TRUE                                                         \\\\\n",
       "\t    <Id> schema = ons.uk\\_economic\\_accounts.part\\_3.yearly & TRUE                                                         \\\\\n",
       "\t            <Id> schema = ons.pink\\_book.part\\_3.quarterly & TRUE                                                       \\\\\n",
       "\t                 <Id> schema = ons.trade\\_in\\_goods.part\\_1 & TRUE                                                         \\\\\n",
       "\t   <Id> schema = ons.uk\\_economic\\_accounts.part\\_2.monthly & TRUE                                                         \\\\\n",
       "\t                        <Id> schema = worldbank.wits\\_ntm & TRUE                                                     \\\\\n",
       "\t    <Id> schema = ons.uk\\_economic\\_accounts.part\\_4.yearly & TRUE                                                         \\\\\n",
       "\t    <Id> schema = ons.uk\\_economic\\_accounts.part\\_1.yearly & TRUE                                                         \\\\\n",
       "\t         <Id> schema = ons.trade\\_in\\_goods.part\\_1.monthly & TRUE                                                         \\\\\n",
       "\t                 <Id> schema = ons.trade\\_in\\_goods.part\\_2 & TRUE                                                         \\\\\n",
       "\t                               <Id> schema = hmrc.smkm46 & TRUE                                                   \\\\\n",
       "\t                     <Id> schema = ons.national\\_accounts & TRUE                                                     \\\\\n",
       "\t                               <Id> schema = hmrc.smki19 & TRUE                                                   \\\\\n",
       "\t       <Id> schema = ons.trade\\_in\\_goods.part\\_1.quarterly & TRUE                                                         \\\\\n",
       "\t                <Id> schema = unctad.fdi.inward\\_flow\\_gdp & TRUE                                                       \\\\\n",
       "\t           <Id> schema = ons.balance\\_of\\_payments.monthly & TRUE                                                       \\\\\n",
       "\\end{tabular}\n"
      ],
      "text/markdown": [
       "\n",
       "table | is_prefix | \n",
       "|---|---|---|---|---|---|---|---|---|---|---|---|---|---|---|---|---|---|---|---|---|---|---|---|---|---|---|---|---|---|---|---|---|---|---|---|---|---|---|---|---|---|---|---|---|---|---|---|---|---|---|---|---|---|---|---|---|---|---|---|---|\n",
       "|                        <Id> schema = ons.gdp_components | TRUE                                                    | \n",
       "|       <Id> schema = ons.trade_in_goods.part_2.quarterly | TRUE                                                    | \n",
       "|   <Id> schema = ons.uk_economic_accounts.part_6.monthly | TRUE                                                    | \n",
       "|            <Id> schema = ons.pink_book.part_1.quarterly | TRUE                                                    | \n",
       "|           <Id> schema = ons.uk_economic_accounts.part_5 | TRUE                                                    | \n",
       "| <Id> schema = ons.uk_economic_accounts.part_6.quarterly | TRUE                                                    | \n",
       "|              <Id> schema = ons.pink_book.part_3.monthly | TRUE                                                    | \n",
       "|               <Id> schema = unctad.fdi.inward_stock_usd | TRUE                                                    | \n",
       "|          <Id> schema = ons.trade_in_goods.part_2.yearly | TRUE                                                    | \n",
       "|           <Id> schema = ons.uk_economic_accounts.part_3 | TRUE                                                    | \n",
       "|                      <Id> schema = ons.pink_book.part_2 | TRUE                                                    | \n",
       "|               <Id> schema = unctad.fdi.outward_flow_usd | TRUE                                                    | \n",
       "|              <Id> schema = unctad.fdi.outward_stock_gdp | TRUE                                                    | \n",
       "|           <Id> schema = ons.uk_economic_accounts.part_1 | TRUE                                                    | \n",
       "|              <Id> schema = ons.pink_book.part_1.monthly | TRUE                                                    | \n",
       "|           <Id> schema = ons.uk_economic_accounts.part_2 | TRUE                                                    | \n",
       "|                <Id> schema = unctad.fdi.inward_flow_usd | TRUE                                                    | \n",
       "|   <Id> schema = ons.uk_economic_accounts.part_3.monthly | TRUE                                                    | \n",
       "|           <Id> schema = ons.national_accounts.quarterly | TRUE                                                    | \n",
       "|           <Id> schema = ons.uk_economic_accounts.part_4 | TRUE                                                    | \n",
       "| <Id> schema = ons.uk_economic_accounts.part_3.quarterly | TRUE                                                    | \n",
       "|    <Id> schema = ons.uk_economic_accounts.part_6.yearly | TRUE                                                    | \n",
       "|                            <Id> schema = hmrc.exporters | TRUE                                                    | \n",
       "|             <Id> schema = worldbank.ease_doing_business | TRUE                                                    | \n",
       "|                               <Id> schema = hmrc.smke19 | TRUE                                                    | \n",
       "|               <Id> schema = unctad.fdi.inward_stock_gdp | TRUE                                                    | \n",
       "|         <Id> schema = ons.balance_of_payments.quarterly | TRUE                                                    | \n",
       "|          <Id> schema = ons.trade_in_goods.part_1.yearly | TRUE                                                    | \n",
       "|              <Id> schema = ons.pink_book.part_4.monthly | TRUE                                                    | \n",
       "| <Id> schema = ons.uk_economic_accounts.part_1.quarterly | TRUE                                                    | \n",
       "| <U+22EE> | <U+22EE> | \n",
       "|                       <Id> schema = hmrc.importers.f1_0 | TRUE                                                    | \n",
       "|               <Id> schema = unctad.fdi.outward_flow_gdp | TRUE                                                    | \n",
       "|              <Id> schema = ons.national_accounts.yearly | TRUE                                                    | \n",
       "|               <Id> schema = ons.pink_book.part_3.yearly | TRUE                                                    | \n",
       "|            <Id> schema = ons.balance_of_payments.yearly | TRUE                                                    | \n",
       "|               <Id> schema = ons.pink_book.part_1.yearly | TRUE                                                    | \n",
       "|            <Id> schema = ons.pink_book.part_2.quarterly | TRUE                                                    | \n",
       "| <Id> schema = ons.uk_economic_accounts.part_2.quarterly | TRUE                                                    | \n",
       "|             <Id> schema = ons.national_accounts.monthly | TRUE                                                    | \n",
       "|                      <Id> schema = ons.pink_book.part_3 | TRUE                                                    | \n",
       "|                                 <Id> schema = oecd.tiva | TRUE                                                    | \n",
       "|    <Id> schema = ons.uk_economic_accounts.part_2.yearly | TRUE                                                    | \n",
       "|               <Id> schema = ons.pink_book.part_4.yearly | TRUE                                                    | \n",
       "|              <Id> schema = unctad.fdi.outward_stock_usd | TRUE                                                    | \n",
       "|   <Id> schema = ons.uk_economic_accounts.part_5.monthly | TRUE                                                    | \n",
       "|    <Id> schema = ons.uk_economic_accounts.part_3.yearly | TRUE                                                    | \n",
       "|            <Id> schema = ons.pink_book.part_3.quarterly | TRUE                                                    | \n",
       "|                 <Id> schema = ons.trade_in_goods.part_1 | TRUE                                                    | \n",
       "|   <Id> schema = ons.uk_economic_accounts.part_2.monthly | TRUE                                                    | \n",
       "|                        <Id> schema = worldbank.wits_ntm | TRUE                                                    | \n",
       "|    <Id> schema = ons.uk_economic_accounts.part_4.yearly | TRUE                                                    | \n",
       "|    <Id> schema = ons.uk_economic_accounts.part_1.yearly | TRUE                                                    | \n",
       "|         <Id> schema = ons.trade_in_goods.part_1.monthly | TRUE                                                    | \n",
       "|                 <Id> schema = ons.trade_in_goods.part_2 | TRUE                                                    | \n",
       "|                               <Id> schema = hmrc.smkm46 | TRUE                                                    | \n",
       "|                     <Id> schema = ons.national_accounts | TRUE                                                    | \n",
       "|                               <Id> schema = hmrc.smki19 | TRUE                                                    | \n",
       "|       <Id> schema = ons.trade_in_goods.part_1.quarterly | TRUE                                                    | \n",
       "|                <Id> schema = unctad.fdi.inward_flow_gdp | TRUE                                                    | \n",
       "|           <Id> schema = ons.balance_of_payments.monthly | TRUE                                                    | \n",
       "\n",
       "\n"
      ],
      "text/plain": [
       "       table                                                   is_prefix\n",
       "1                             <Id> schema = ons.gdp_components TRUE     \n",
       "2            <Id> schema = ons.trade_in_goods.part_2.quarterly TRUE     \n",
       "3        <Id> schema = ons.uk_economic_accounts.part_6.monthly TRUE     \n",
       "4                 <Id> schema = ons.pink_book.part_1.quarterly TRUE     \n",
       "5                <Id> schema = ons.uk_economic_accounts.part_5 TRUE     \n",
       "6      <Id> schema = ons.uk_economic_accounts.part_6.quarterly TRUE     \n",
       "7                   <Id> schema = ons.pink_book.part_3.monthly TRUE     \n",
       "8                    <Id> schema = unctad.fdi.inward_stock_usd TRUE     \n",
       "9               <Id> schema = ons.trade_in_goods.part_2.yearly TRUE     \n",
       "10               <Id> schema = ons.uk_economic_accounts.part_3 TRUE     \n",
       "11                          <Id> schema = ons.pink_book.part_2 TRUE     \n",
       "12                   <Id> schema = unctad.fdi.outward_flow_usd TRUE     \n",
       "13                  <Id> schema = unctad.fdi.outward_stock_gdp TRUE     \n",
       "14               <Id> schema = ons.uk_economic_accounts.part_1 TRUE     \n",
       "15                  <Id> schema = ons.pink_book.part_1.monthly TRUE     \n",
       "16               <Id> schema = ons.uk_economic_accounts.part_2 TRUE     \n",
       "17                    <Id> schema = unctad.fdi.inward_flow_usd TRUE     \n",
       "18       <Id> schema = ons.uk_economic_accounts.part_3.monthly TRUE     \n",
       "19               <Id> schema = ons.national_accounts.quarterly TRUE     \n",
       "20               <Id> schema = ons.uk_economic_accounts.part_4 TRUE     \n",
       "21     <Id> schema = ons.uk_economic_accounts.part_3.quarterly TRUE     \n",
       "22        <Id> schema = ons.uk_economic_accounts.part_6.yearly TRUE     \n",
       "23                                <Id> schema = hmrc.exporters TRUE     \n",
       "24                 <Id> schema = worldbank.ease_doing_business TRUE     \n",
       "25                                   <Id> schema = hmrc.smke19 TRUE     \n",
       "26                   <Id> schema = unctad.fdi.inward_stock_gdp TRUE     \n",
       "27             <Id> schema = ons.balance_of_payments.quarterly TRUE     \n",
       "28              <Id> schema = ons.trade_in_goods.part_1.yearly TRUE     \n",
       "29                  <Id> schema = ons.pink_book.part_4.monthly TRUE     \n",
       "30     <Id> schema = ons.uk_economic_accounts.part_1.quarterly TRUE     \n",
       "<U+22EE> <U+22EE>                                                <U+22EE> \n",
       "51                           <Id> schema = hmrc.importers.f1_0 TRUE     \n",
       "52                   <Id> schema = unctad.fdi.outward_flow_gdp TRUE     \n",
       "53                  <Id> schema = ons.national_accounts.yearly TRUE     \n",
       "54                   <Id> schema = ons.pink_book.part_3.yearly TRUE     \n",
       "55                <Id> schema = ons.balance_of_payments.yearly TRUE     \n",
       "56                   <Id> schema = ons.pink_book.part_1.yearly TRUE     \n",
       "57                <Id> schema = ons.pink_book.part_2.quarterly TRUE     \n",
       "58     <Id> schema = ons.uk_economic_accounts.part_2.quarterly TRUE     \n",
       "59                 <Id> schema = ons.national_accounts.monthly TRUE     \n",
       "60                          <Id> schema = ons.pink_book.part_3 TRUE     \n",
       "61                                     <Id> schema = oecd.tiva TRUE     \n",
       "62        <Id> schema = ons.uk_economic_accounts.part_2.yearly TRUE     \n",
       "63                   <Id> schema = ons.pink_book.part_4.yearly TRUE     \n",
       "64                  <Id> schema = unctad.fdi.outward_stock_usd TRUE     \n",
       "65       <Id> schema = ons.uk_economic_accounts.part_5.monthly TRUE     \n",
       "66        <Id> schema = ons.uk_economic_accounts.part_3.yearly TRUE     \n",
       "67                <Id> schema = ons.pink_book.part_3.quarterly TRUE     \n",
       "68                     <Id> schema = ons.trade_in_goods.part_1 TRUE     \n",
       "69       <Id> schema = ons.uk_economic_accounts.part_2.monthly TRUE     \n",
       "70                            <Id> schema = worldbank.wits_ntm TRUE     \n",
       "71        <Id> schema = ons.uk_economic_accounts.part_4.yearly TRUE     \n",
       "72        <Id> schema = ons.uk_economic_accounts.part_1.yearly TRUE     \n",
       "73             <Id> schema = ons.trade_in_goods.part_1.monthly TRUE     \n",
       "74                     <Id> schema = ons.trade_in_goods.part_2 TRUE     \n",
       "75                                   <Id> schema = hmrc.smkm46 TRUE     \n",
       "76                         <Id> schema = ons.national_accounts TRUE     \n",
       "77                                   <Id> schema = hmrc.smki19 TRUE     \n",
       "78           <Id> schema = ons.trade_in_goods.part_1.quarterly TRUE     \n",
       "79                    <Id> schema = unctad.fdi.inward_flow_gdp TRUE     \n",
       "80               <Id> schema = ons.balance_of_payments.monthly TRUE     "
      ]
     },
     "metadata": {},
     "output_type": "display_data"
    }
   ],
   "source": [
    "library(DBI)\n",
    "dbListObjects(conn_datasets_1) "
   ]
  },
  {
   "cell_type": "code",
   "execution_count": 5,
   "metadata": {},
   "outputs": [
    {
     "data": {
      "text/html": [
       "<table>\n",
       "<thead><tr><th scope=col>table</th><th scope=col>is_prefix</th></tr></thead>\n",
       "<tbody>\n",
       "\t<tr><td>&lt;Id&gt; schema = oecd.tiva, table = L1</td><td>FALSE                                    </td></tr>\n",
       "</tbody>\n",
       "</table>\n"
      ],
      "text/latex": [
       "\\begin{tabular}{r|ll}\n",
       " table & is\\_prefix\\\\\n",
       "\\hline\n",
       "\t <Id> schema = oecd.tiva, table = L1 & FALSE                              \\\\\n",
       "\\end{tabular}\n"
      ],
      "text/markdown": [
       "\n",
       "table | is_prefix | \n",
       "|---|\n",
       "| <Id> schema = oecd.tiva, table = L1 | FALSE                               | \n",
       "\n",
       "\n"
      ],
      "text/plain": [
       "  table                               is_prefix\n",
       "1 <Id> schema = oecd.tiva, table = L1 FALSE    "
      ]
     },
     "metadata": {},
     "output_type": "display_data"
    }
   ],
   "source": [
    "dbListObjects(conn_datasets_1, Id(schema = \"oecd.tiva\"))"
   ]
  },
  {
   "cell_type": "markdown",
   "metadata": {},
   "source": [
    "##### Step 3.2: Check columns of a table"
   ]
  },
  {
   "cell_type": "code",
   "execution_count": 6,
   "metadata": {},
   "outputs": [
    {
     "data": {
      "text/html": [
       "<ol class=list-inline>\n",
       "\t<li>'source_country'</li>\n",
       "\t<li>'source_industry'</li>\n",
       "\t<li>'exporting_country'</li>\n",
       "\t<li>'exporting_industry'</li>\n",
       "\t<li>'value'</li>\n",
       "\t<li>'source_country_eu'</li>\n",
       "\t<li>'exporting_country_eu'</li>\n",
       "\t<li>'value_world'</li>\n",
       "\t<li>'year'</li>\n",
       "\t<li>'id'</li>\n",
       "</ol>\n"
      ],
      "text/latex": [
       "\\begin{enumerate*}\n",
       "\\item 'source\\_country'\n",
       "\\item 'source\\_industry'\n",
       "\\item 'exporting\\_country'\n",
       "\\item 'exporting\\_industry'\n",
       "\\item 'value'\n",
       "\\item 'source\\_country\\_eu'\n",
       "\\item 'exporting\\_country\\_eu'\n",
       "\\item 'value\\_world'\n",
       "\\item 'year'\n",
       "\\item 'id'\n",
       "\\end{enumerate*}\n"
      ],
      "text/markdown": [
       "1. 'source_country'\n",
       "2. 'source_industry'\n",
       "3. 'exporting_country'\n",
       "4. 'exporting_industry'\n",
       "5. 'value'\n",
       "6. 'source_country_eu'\n",
       "7. 'exporting_country_eu'\n",
       "8. 'value_world'\n",
       "9. 'year'\n",
       "10. 'id'\n",
       "\n",
       "\n"
      ],
      "text/plain": [
       " [1] \"source_country\"       \"source_industry\"      \"exporting_country\"   \n",
       " [4] \"exporting_industry\"   \"value\"                \"source_country_eu\"   \n",
       " [7] \"exporting_country_eu\" \"value_world\"          \"year\"                \n",
       "[10] \"id\"                  "
      ]
     },
     "metadata": {},
     "output_type": "display_data"
    }
   ],
   "source": [
    "dbListFields(conn_datasets_1, Id(schema = \"oecd.tiva\", table= \"L1\"))"
   ]
  },
  {
   "cell_type": "markdown",
   "metadata": {},
   "source": [
    "##### Step 3.3.: Checkout a few rows in a table\n",
    "\n",
    "When a query is executed, the data will be stored in memory. Many datasets have more data then is suitable to load into memory. Loading all data in this case will crash JupyterHub. You can limit the number of results to retrieve in manageable chunck by using the LIMIT and OFFSET functionality."
   ]
  },
  {
   "cell_type": "code",
   "execution_count": 7,
   "metadata": {},
   "outputs": [
    {
     "data": {
      "text/html": [
       "<table>\n",
       "<thead><tr><th scope=col>source_country</th><th scope=col>source_industry</th><th scope=col>exporting_country</th><th scope=col>exporting_industry</th><th scope=col>value</th><th scope=col>source_country_eu</th><th scope=col>exporting_country_eu</th><th scope=col>value_world</th><th scope=col>year</th><th scope=col>id</th></tr></thead>\n",
       "<tbody>\n",
       "\t<tr><td>World        </td><td>C75          </td><td>Rest of world</td><td>C75          </td><td>0.700        </td><td>FALSE        </td><td>FALSE        </td><td>0.700        </td><td>2011         </td><td>63889782     </td></tr>\n",
       "\t<tr><td>Rest of world</td><td>C75          </td><td>Rest of world</td><td>C75          </td><td>0.699        </td><td>FALSE        </td><td>FALSE        </td><td>0.700        </td><td>2011         </td><td>63889781     </td></tr>\n",
       "\t<tr><td>World        </td><td>C73T74       </td><td>Rest of world</td><td>C75          </td><td>0.022        </td><td>FALSE        </td><td>FALSE        </td><td>0.022        </td><td>2011         </td><td>63889780     </td></tr>\n",
       "\t<tr><td>Rest of world</td><td>C73T74       </td><td>Rest of world</td><td>C75          </td><td>0.012        </td><td>FALSE        </td><td>FALSE        </td><td>0.022        </td><td>2011         </td><td>63889779     </td></tr>\n",
       "\t<tr><td>United States</td><td>C73T74       </td><td>Rest of world</td><td>C75          </td><td>0.002        </td><td>FALSE        </td><td>FALSE        </td><td>0.022        </td><td>2011         </td><td>63889778     </td></tr>\n",
       "</tbody>\n",
       "</table>\n"
      ],
      "text/latex": [
       "\\begin{tabular}{r|llllllllll}\n",
       " source\\_country & source\\_industry & exporting\\_country & exporting\\_industry & value & source\\_country\\_eu & exporting\\_country\\_eu & value\\_world & year & id\\\\\n",
       "\\hline\n",
       "\t World         & C75           & Rest of world & C75           & 0.700         & FALSE         & FALSE         & 0.700         & 2011          & 63889782     \\\\\n",
       "\t Rest of world & C75           & Rest of world & C75           & 0.699         & FALSE         & FALSE         & 0.700         & 2011          & 63889781     \\\\\n",
       "\t World         & C73T74        & Rest of world & C75           & 0.022         & FALSE         & FALSE         & 0.022         & 2011          & 63889780     \\\\\n",
       "\t Rest of world & C73T74        & Rest of world & C75           & 0.012         & FALSE         & FALSE         & 0.022         & 2011          & 63889779     \\\\\n",
       "\t United States & C73T74        & Rest of world & C75           & 0.002         & FALSE         & FALSE         & 0.022         & 2011          & 63889778     \\\\\n",
       "\\end{tabular}\n"
      ],
      "text/markdown": [
       "\n",
       "source_country | source_industry | exporting_country | exporting_industry | value | source_country_eu | exporting_country_eu | value_world | year | id | \n",
       "|---|---|---|---|---|\n",
       "| World         | C75           | Rest of world | C75           | 0.700         | FALSE         | FALSE         | 0.700         | 2011          | 63889782      | \n",
       "| Rest of world | C75           | Rest of world | C75           | 0.699         | FALSE         | FALSE         | 0.700         | 2011          | 63889781      | \n",
       "| World         | C73T74        | Rest of world | C75           | 0.022         | FALSE         | FALSE         | 0.022         | 2011          | 63889780      | \n",
       "| Rest of world | C73T74        | Rest of world | C75           | 0.012         | FALSE         | FALSE         | 0.022         | 2011          | 63889779      | \n",
       "| United States | C73T74        | Rest of world | C75           | 0.002         | FALSE         | FALSE         | 0.022         | 2011          | 63889778      | \n",
       "\n",
       "\n"
      ],
      "text/plain": [
       "  source_country source_industry exporting_country exporting_industry value\n",
       "1 World          C75             Rest of world     C75                0.700\n",
       "2 Rest of world  C75             Rest of world     C75                0.699\n",
       "3 World          C73T74          Rest of world     C75                0.022\n",
       "4 Rest of world  C73T74          Rest of world     C75                0.012\n",
       "5 United States  C73T74          Rest of world     C75                0.002\n",
       "  source_country_eu exporting_country_eu value_world year id      \n",
       "1 FALSE             FALSE                0.700       2011 63889782\n",
       "2 FALSE             FALSE                0.700       2011 63889781\n",
       "3 FALSE             FALSE                0.022       2011 63889780\n",
       "4 FALSE             FALSE                0.022       2011 63889779\n",
       "5 FALSE             FALSE                0.022       2011 63889778"
      ]
     },
     "metadata": {},
     "output_type": "display_data"
    }
   ],
   "source": [
    "# Retrieve the first 5 rows with the highest id's\n",
    "dbGetQuery(conn_datasets_1, '\n",
    "    SELECT * FROM \"oecd.tiva\".\"L1\" order by id desc OFFSET 0 LIMIT 5;\n",
    "')"
   ]
  },
  {
   "cell_type": "code",
   "execution_count": 26,
   "metadata": {},
   "outputs": [
    {
     "data": {
      "text/html": [
       "<table>\n",
       "<thead><tr><th scope=col>source_country</th><th scope=col>source_industry</th><th scope=col>exporting_country</th><th scope=col>exporting_industry</th><th scope=col>value</th><th scope=col>source_country_eu</th><th scope=col>exporting_country_eu</th><th scope=col>value_world</th><th scope=col>year</th><th scope=col>id</th></tr></thead>\n",
       "<tbody>\n",
       "\t<tr><td>United Kingdom</td><td>C73T74        </td><td>Rest of world </td><td>C75           </td><td>0.001         </td><td> TRUE         </td><td>FALSE         </td><td>0.022         </td><td>2011          </td><td>63889777      </td></tr>\n",
       "\t<tr><td>Japan         </td><td>C73T74        </td><td>Rest of world </td><td>C75           </td><td>0.001         </td><td>FALSE         </td><td>FALSE         </td><td>0.022         </td><td>2011          </td><td>63889776      </td></tr>\n",
       "\t<tr><td>Italy         </td><td>C73T74        </td><td>Rest of world </td><td>C75           </td><td>0.001         </td><td> TRUE         </td><td>FALSE         </td><td>0.022         </td><td>2011          </td><td>63889775      </td></tr>\n",
       "\t<tr><td>Germany       </td><td>C73T74        </td><td>Rest of world </td><td>C75           </td><td>0.001         </td><td> TRUE         </td><td>FALSE         </td><td>0.022         </td><td>2011          </td><td>63889774      </td></tr>\n",
       "\t<tr><td>France        </td><td>C73T74        </td><td>Rest of world </td><td>C75           </td><td>0.001         </td><td> TRUE         </td><td>FALSE         </td><td>0.022         </td><td>2011          </td><td>63889773      </td></tr>\n",
       "</tbody>\n",
       "</table>\n"
      ],
      "text/latex": [
       "\\begin{tabular}{r|llllllllll}\n",
       " source\\_country & source\\_industry & exporting\\_country & exporting\\_industry & value & source\\_country\\_eu & exporting\\_country\\_eu & value\\_world & year & id\\\\\n",
       "\\hline\n",
       "\t United Kingdom & C73T74         & Rest of world  & C75            & 0.001          &  TRUE          & FALSE          & 0.022          & 2011           & 63889777      \\\\\n",
       "\t Japan          & C73T74         & Rest of world  & C75            & 0.001          & FALSE          & FALSE          & 0.022          & 2011           & 63889776      \\\\\n",
       "\t Italy          & C73T74         & Rest of world  & C75            & 0.001          &  TRUE          & FALSE          & 0.022          & 2011           & 63889775      \\\\\n",
       "\t Germany        & C73T74         & Rest of world  & C75            & 0.001          &  TRUE          & FALSE          & 0.022          & 2011           & 63889774      \\\\\n",
       "\t France         & C73T74         & Rest of world  & C75            & 0.001          &  TRUE          & FALSE          & 0.022          & 2011           & 63889773      \\\\\n",
       "\\end{tabular}\n"
      ],
      "text/markdown": [
       "\n",
       "source_country | source_industry | exporting_country | exporting_industry | value | source_country_eu | exporting_country_eu | value_world | year | id | \n",
       "|---|---|---|---|---|\n",
       "| United Kingdom | C73T74         | Rest of world  | C75            | 0.001          |  TRUE          | FALSE          | 0.022          | 2011           | 63889777       | \n",
       "| Japan          | C73T74         | Rest of world  | C75            | 0.001          | FALSE          | FALSE          | 0.022          | 2011           | 63889776       | \n",
       "| Italy          | C73T74         | Rest of world  | C75            | 0.001          |  TRUE          | FALSE          | 0.022          | 2011           | 63889775       | \n",
       "| Germany        | C73T74         | Rest of world  | C75            | 0.001          |  TRUE          | FALSE          | 0.022          | 2011           | 63889774       | \n",
       "| France         | C73T74         | Rest of world  | C75            | 0.001          |  TRUE          | FALSE          | 0.022          | 2011           | 63889773       | \n",
       "\n",
       "\n"
      ],
      "text/plain": [
       "  source_country source_industry exporting_country exporting_industry value\n",
       "1 United Kingdom C73T74          Rest of world     C75                0.001\n",
       "2 Japan          C73T74          Rest of world     C75                0.001\n",
       "3 Italy          C73T74          Rest of world     C75                0.001\n",
       "4 Germany        C73T74          Rest of world     C75                0.001\n",
       "5 France         C73T74          Rest of world     C75                0.001\n",
       "  source_country_eu exporting_country_eu value_world year id      \n",
       "1  TRUE             FALSE                0.022       2011 63889777\n",
       "2 FALSE             FALSE                0.022       2011 63889776\n",
       "3  TRUE             FALSE                0.022       2011 63889775\n",
       "4  TRUE             FALSE                0.022       2011 63889774\n",
       "5  TRUE             FALSE                0.022       2011 63889773"
      ]
     },
     "metadata": {},
     "output_type": "display_data"
    }
   ],
   "source": [
    "# Retrieve the next 5 rows with the highest id's\n",
    "dbGetQuery(conn_datasets_1, '\n",
    "    SELECT * FROM \"oecd.tiva\".\"L1\" order by id desc OFFSET 5 LIMIT 5;\n",
    "')"
   ]
  },
  {
   "cell_type": "markdown",
   "metadata": {},
   "source": [
    "##### Step 3.4: Checkout specific columns in a table\n"
   ]
  },
  {
   "cell_type": "code",
   "execution_count": 28,
   "metadata": {},
   "outputs": [
    {
     "data": {
      "text/html": [
       "<table>\n",
       "<thead><tr><th scope=col>year</th><th scope=col>source_country</th><th scope=col>exporting_country</th><th scope=col>value_world</th></tr></thead>\n",
       "<tbody>\n",
       "\t<tr><td>2003         </td><td>South Africa </td><td>Singapore    </td><td>76.266       </td></tr>\n",
       "\t<tr><td>2003         </td><td>Rest of world</td><td>Singapore    </td><td>76.266       </td></tr>\n",
       "\t<tr><td>2003         </td><td>World        </td><td>Singapore    </td><td>76.266       </td></tr>\n",
       "\t<tr><td>2003         </td><td>Hungary      </td><td>Thailand     </td><td>50.764       </td></tr>\n",
       "\t<tr><td>2003         </td><td>Iceland      </td><td>Thailand     </td><td>50.764       </td></tr>\n",
       "</tbody>\n",
       "</table>\n"
      ],
      "text/latex": [
       "\\begin{tabular}{r|llll}\n",
       " year & source\\_country & exporting\\_country & value\\_world\\\\\n",
       "\\hline\n",
       "\t 2003          & South Africa  & Singapore     & 76.266       \\\\\n",
       "\t 2003          & Rest of world & Singapore     & 76.266       \\\\\n",
       "\t 2003          & World         & Singapore     & 76.266       \\\\\n",
       "\t 2003          & Hungary       & Thailand      & 50.764       \\\\\n",
       "\t 2003          & Iceland       & Thailand      & 50.764       \\\\\n",
       "\\end{tabular}\n"
      ],
      "text/markdown": [
       "\n",
       "year | source_country | exporting_country | value_world | \n",
       "|---|---|---|---|---|\n",
       "| 2003          | South Africa  | Singapore     | 76.266        | \n",
       "| 2003          | Rest of world | Singapore     | 76.266        | \n",
       "| 2003          | World         | Singapore     | 76.266        | \n",
       "| 2003          | Hungary       | Thailand      | 50.764        | \n",
       "| 2003          | Iceland       | Thailand      | 50.764        | \n",
       "\n",
       "\n"
      ],
      "text/plain": [
       "  year source_country exporting_country value_world\n",
       "1 2003 South Africa   Singapore         76.266     \n",
       "2 2003 Rest of world  Singapore         76.266     \n",
       "3 2003 World          Singapore         76.266     \n",
       "4 2003 Hungary        Thailand          50.764     \n",
       "5 2003 Iceland        Thailand          50.764     "
      ]
     },
     "metadata": {},
     "output_type": "display_data"
    }
   ],
   "source": [
    "# Retrieve 5 rows with only year, source_country, exporting_country, value_world column values\n",
    "dbGetQuery(conn_datasets_1, '\n",
    "    SELECT year, source_country, exporting_country, value_world FROM \"oecd.tiva\".\"L1\"\n",
    "', n = 5)"
   ]
  },
  {
   "cell_type": "markdown",
   "metadata": {},
   "source": [
    "##### Step 3.5: Count results"
   ]
  },
  {
   "cell_type": "code",
   "execution_count": 29,
   "metadata": {},
   "outputs": [
    {
     "data": {
      "text/html": [
       "<table>\n",
       "<thead><tr><th scope=col>total_rows</th><th scope=col>number_countries</th></tr></thead>\n",
       "<tbody>\n",
       "\t<tr><td>55430983</td><td>65      </td></tr>\n",
       "</tbody>\n",
       "</table>\n"
      ],
      "text/latex": [
       "\\begin{tabular}{r|ll}\n",
       " total\\_rows & number\\_countries\\\\\n",
       "\\hline\n",
       "\t 55430983 & 65      \\\\\n",
       "\\end{tabular}\n"
      ],
      "text/markdown": [
       "\n",
       "total_rows | number_countries | \n",
       "|---|\n",
       "| 55430983 | 65       | \n",
       "\n",
       "\n"
      ],
      "text/plain": [
       "  total_rows number_countries\n",
       "1 55430983   65              "
      ]
     },
     "metadata": {},
     "output_type": "display_data"
    }
   ],
   "source": [
    "# Count the number of distinct source countries in the dataset and the total number of rows in the dataset.\n",
    "dbGetQuery(conn_datasets_1, '\n",
    "    SELECT count(*) as total_rows,\n",
    "    count(distinct(source_country)) as number_countries \n",
    "    FROM \"oecd.tiva\".\"L1\"\n",
    "')"
   ]
  },
  {
   "cell_type": "markdown",
   "metadata": {},
   "source": [
    "##### Step 3.6: Filtering results (WHERE)"
   ]
  },
  {
   "cell_type": "code",
   "execution_count": 9,
   "metadata": {},
   "outputs": [
    {
     "data": {
      "text/html": [
       "<table>\n",
       "<thead><tr><th scope=col>count</th></tr></thead>\n",
       "<tbody>\n",
       "\t<tr><td>64480</td></tr>\n",
       "</tbody>\n",
       "</table>\n"
      ],
      "text/latex": [
       "\\begin{tabular}{r|l}\n",
       " count\\\\\n",
       "\\hline\n",
       "\t 64480\\\\\n",
       "\\end{tabular}\n"
      ],
      "text/markdown": [
       "\n",
       "count | \n",
       "|---|\n",
       "| 64480 | \n",
       "\n",
       "\n"
      ],
      "text/plain": [
       "  count\n",
       "1 64480"
      ]
     },
     "metadata": {},
     "output_type": "display_data"
    }
   ],
   "source": [
    "# Filter the results by only including rows where exporting country is the United Kingdom\n",
    "dbGetQuery(conn_datasets_1, '\n",
    "    SELECT year, source_country, exporting_country, value_world  \n",
    "    FROM \"oecd.tiva\".\"L1\"\n",
    "    WHERE exporting_country = 'United Kingdom' \n",
    "    LIMIT 5;\n",
    "')"
   ]
  },
  {
   "cell_type": "markdown",
   "metadata": {},
   "source": [
    "##### Step 3.7: Aggregating results (GROUP BY)"
   ]
  },
  {
   "cell_type": "code",
   "execution_count": 31,
   "metadata": {},
   "outputs": [
    {
     "data": {
      "text/html": [
       "<table>\n",
       "<thead><tr><th scope=col>source_country</th><th scope=col>total_value</th><th scope=col>average_value</th><th scope=col>number_rows</th></tr></thead>\n",
       "<tbody>\n",
       "\t<tr><td>Argentina</td><td>67806300 </td><td>4196.978 </td><td>16156    </td></tr>\n",
       "\t<tr><td>Australia</td><td>67872000 </td><td>3863.836 </td><td>17566    </td></tr>\n",
       "\t<tr><td>Austria  </td><td>67869700 </td><td>3865.904 </td><td>17556    </td></tr>\n",
       "\t<tr><td>Belgium  </td><td>67872700 </td><td>3850.939 </td><td>17625    </td></tr>\n",
       "\t<tr><td>Brazil   </td><td>67867300 </td><td>3920.701 </td><td>17310    </td></tr>\n",
       "</tbody>\n",
       "</table>\n"
      ],
      "text/latex": [
       "\\begin{tabular}{r|llll}\n",
       " source\\_country & total\\_value & average\\_value & number\\_rows\\\\\n",
       "\\hline\n",
       "\t Argentina & 67806300  & 4196.978  & 16156    \\\\\n",
       "\t Australia & 67872000  & 3863.836  & 17566    \\\\\n",
       "\t Austria   & 67869700  & 3865.904  & 17556    \\\\\n",
       "\t Belgium   & 67872700  & 3850.939  & 17625    \\\\\n",
       "\t Brazil    & 67867300  & 3920.701  & 17310    \\\\\n",
       "\\end{tabular}\n"
      ],
      "text/markdown": [
       "\n",
       "source_country | total_value | average_value | number_rows | \n",
       "|---|---|---|---|---|\n",
       "| Argentina | 67806300  | 4196.978  | 16156     | \n",
       "| Australia | 67872000  | 3863.836  | 17566     | \n",
       "| Austria   | 67869700  | 3865.904  | 17556     | \n",
       "| Belgium   | 67872700  | 3850.939  | 17625     | \n",
       "| Brazil    | 67867300  | 3920.701  | 17310     | \n",
       "\n",
       "\n"
      ],
      "text/plain": [
       "  source_country total_value average_value number_rows\n",
       "1 Argentina      67806300    4196.978      16156      \n",
       "2 Australia      67872000    3863.836      17566      \n",
       "3 Austria        67869700    3865.904      17556      \n",
       "4 Belgium        67872700    3850.939      17625      \n",
       "5 Brazil         67867300    3920.701      17310      "
      ]
     },
     "metadata": {},
     "output_type": "display_data"
    }
   ],
   "source": [
    "# Query total export value, average export value and number of rows for each source country in the dataset\n",
    "dbGetQuery(conn_datasets_1, '\n",
    "    SELECT source_country, sum(value_world) as total_value, \n",
    "        avg(value_world) as average_value, count(value_world) as number_rows  \n",
    "     FROM \"oecd.tiva\".\"L1\"\n",
    "     WHERE exporting_country = \\'United Kingdom\\'\n",
    "     GROUP BY source_country\n",
    "     LIMIT 5;\n",
    "')"
   ]
  },
  {
   "cell_type": "markdown",
   "metadata": {},
   "source": [
    "##### Step 3.8: Ordering results (ORDER BY)"
   ]
  },
  {
   "cell_type": "code",
   "execution_count": 34,
   "metadata": {},
   "outputs": [
    {
     "data": {
      "text/html": [
       "<table>\n",
       "<thead><tr><th scope=col>source_country</th><th scope=col>total_value</th><th scope=col>average_value</th><th scope=col>number_rows</th></tr></thead>\n",
       "<tbody>\n",
       "\t<tr><td>World         </td><td>67873400      </td><td>3843.34256    </td><td>17660         </td></tr>\n",
       "\t<tr><td>United Kingdom</td><td>55210700      </td><td>3126.31901    </td><td>17660         </td></tr>\n",
       "\t<tr><td>United States </td><td> 1706020      </td><td>  96.66946    </td><td>17648         </td></tr>\n",
       "\t<tr><td>Germany       </td><td> 1578450      </td><td>  89.44088    </td><td>17648         </td></tr>\n",
       "\t<tr><td>France        </td><td>  929635      </td><td>  52.67648    </td><td>17648         </td></tr>\n",
       "\t<tr><td>Norway        </td><td>  859274      </td><td>  48.85301    </td><td>17589         </td></tr>\n",
       "\t<tr><td>Rest of world </td><td>  727219      </td><td>  41.27717    </td><td>17618         </td></tr>\n",
       "\t<tr><td>Japan         </td><td>  595814      </td><td>  33.79169    </td><td>17632         </td></tr>\n",
       "</tbody>\n",
       "</table>\n"
      ],
      "text/latex": [
       "\\begin{tabular}{r|llll}\n",
       " source\\_country & total\\_value & average\\_value & number\\_rows\\\\\n",
       "\\hline\n",
       "\t World          & 67873400       & 3843.34256     & 17660         \\\\\n",
       "\t United Kingdom & 55210700       & 3126.31901     & 17660         \\\\\n",
       "\t United States  &  1706020       &   96.66946     & 17648         \\\\\n",
       "\t Germany        &  1578450       &   89.44088     & 17648         \\\\\n",
       "\t France         &   929635       &   52.67648     & 17648         \\\\\n",
       "\t Norway         &   859274       &   48.85301     & 17589         \\\\\n",
       "\t Rest of world  &   727219       &   41.27717     & 17618         \\\\\n",
       "\t Japan          &   595814       &   33.79169     & 17632         \\\\\n",
       "\\end{tabular}\n"
      ],
      "text/markdown": [
       "\n",
       "source_country | total_value | average_value | number_rows | \n",
       "|---|---|---|---|---|---|---|---|\n",
       "| World          | 67873400       | 3843.34256     | 17660          | \n",
       "| United Kingdom | 55210700       | 3126.31901     | 17660          | \n",
       "| United States  |  1706020       |   96.66946     | 17648          | \n",
       "| Germany        |  1578450       |   89.44088     | 17648          | \n",
       "| France         |   929635       |   52.67648     | 17648          | \n",
       "| Norway         |   859274       |   48.85301     | 17589          | \n",
       "| Rest of world  |   727219       |   41.27717     | 17618          | \n",
       "| Japan          |   595814       |   33.79169     | 17632          | \n",
       "\n",
       "\n"
      ],
      "text/plain": [
       "  source_country total_value average_value number_rows\n",
       "1 World          67873400    3843.34256    17660      \n",
       "2 United Kingdom 55210700    3126.31901    17660      \n",
       "3 United States   1706020      96.66946    17648      \n",
       "4 Germany         1578450      89.44088    17648      \n",
       "5 France           929635      52.67648    17648      \n",
       "6 Norway           859274      48.85301    17589      \n",
       "7 Rest of world    727219      41.27717    17618      \n",
       "8 Japan            595814      33.79169    17632      "
      ]
     },
     "metadata": {},
     "output_type": "display_data"
    }
   ],
   "source": [
    "# Query total export value, average export value and number of rows for each source country in the dataset \n",
    "# and order the results by total export value\n",
    "dbGetQuery(conn_datasets_1, '\n",
    "    SELECT source_country, \n",
    "      sum(value) as total_value, \n",
    "      avg(value) as average_value,\n",
    "      count(value) as number_rows  \n",
    "     FROM \"oecd.tiva\".\"L1\"\n",
    "     WHERE exporting_country = \\'United Kingdom\\'\n",
    "     GROUP BY source_country\n",
    "     ORDER BY sum(value) desc\n",
    "     LIMIT 8;\n",
    "')"
   ]
  },
  {
   "cell_type": "markdown",
   "metadata": {},
   "source": [
    "#### Step 4: Plot results\n",
    "\n",
    "##### Step 4.1: Query DB"
   ]
  },
  {
   "cell_type": "code",
   "execution_count": 2,
   "metadata": {},
   "outputs": [
    {
     "data": {
      "text/html": [
       "<table>\n",
       "<thead><tr><th scope=col>exporting_country</th><th scope=col>total_export</th></tr></thead>\n",
       "<tbody>\n",
       "\t<tr><td>Germany    </td><td>189773.0   </td></tr>\n",
       "\t<tr><td>Ireland    </td><td>124472.0   </td></tr>\n",
       "\t<tr><td>Netherlands</td><td> 86585.0   </td></tr>\n",
       "\t<tr><td>France     </td><td> 84172.1   </td></tr>\n",
       "\t<tr><td>Spain      </td><td> 55383.6   </td></tr>\n",
       "\t<tr><td>Italy      </td><td> 52419.2   </td></tr>\n",
       "</tbody>\n",
       "</table>\n"
      ],
      "text/latex": [
       "\\begin{tabular}{r|ll}\n",
       " exporting\\_country & total\\_export\\\\\n",
       "\\hline\n",
       "\t Germany     & 189773.0   \\\\\n",
       "\t Ireland     & 124472.0   \\\\\n",
       "\t Netherlands &  86585.0   \\\\\n",
       "\t France      &  84172.1   \\\\\n",
       "\t Spain       &  55383.6   \\\\\n",
       "\t Italy       &  52419.2   \\\\\n",
       "\\end{tabular}\n"
      ],
      "text/markdown": [
       "\n",
       "exporting_country | total_export | \n",
       "|---|---|---|---|---|---|\n",
       "| Germany     | 189773.0    | \n",
       "| Ireland     | 124472.0    | \n",
       "| Netherlands |  86585.0    | \n",
       "| France      |  84172.1    | \n",
       "| Spain       |  55383.6    | \n",
       "| Italy       |  52419.2    | \n",
       "\n",
       "\n"
      ],
      "text/plain": [
       "  exporting_country total_export\n",
       "1 Germany           189773.0    \n",
       "2 Ireland           124472.0    \n",
       "3 Netherlands        86585.0    \n",
       "4 France             84172.1    \n",
       "5 Spain              55383.6    \n",
       "6 Italy              52419.2    "
      ]
     },
     "metadata": {},
     "output_type": "display_data"
    }
   ],
   "source": [
    "# Get total export value from UK to each EU country in 2011\n",
    "df <- dbGetQuery(conn_datasets_1, '\n",
    "    SELECT exporting_country, sum(value) as total_export\n",
    "    from \"oecd.tiva\".\"L1\" where year=\\'2011\\' \n",
    "        and source_country=\\'United Kingdom\\' \n",
    "        and exporting_country_eu=\\'True\\' and exporting_country != \\'United Kingdom\\' \n",
    "    group by exporting_country, source_country order by sum(value) desc\n",
    "')\n",
    "head(df)"
   ]
  },
  {
   "cell_type": "markdown",
   "metadata": {},
   "source": [
    "##### Step 4.2: Plotting results "
   ]
  },
  {
   "cell_type": "code",
   "execution_count": 3,
   "metadata": {},
   "outputs": [
    {
     "data": {
      "image/png": "[encoded data removed]",
      "text/plain": [
       "plot without title"
      ]
     },
     "metadata": {},
     "output_type": "display_data",
     "source": "R display func"
    }
   ],
   "source": [
    "# set index as the exporting country column\n",
    "rownames(df) <- df$exporting_country\n",
    "\n",
    "# remove the exporting country column from the df\n",
    "df$exporting_country <- NULL\n",
    "\n",
    "# plot the results in a barplot\n",
    "barplot(t(as.matrix(as.data.frame(df))), las=2) # make label text perpendicular to axis"
   ]
  },
  {
   "cell_type": "markdown",
   "metadata": {},
   "source": [
    "To download the chart: shift + right-click -> save as image"
   ]
  },
  {
   "cell_type": "markdown",
   "metadata": {},
   "source": [
    "## Demo 3: Export data to local machine"
   ]
  },
  {
   "cell_type": "markdown",
   "metadata": {},
   "source": [
    "#### Step 1: Modify dataframe to exclude empty columns \n",
    "\n",
    "This demo starts from the dataframe with HMRC exporter data created in demo 1 and explains how work can be exported outside JupyterHub to your local machine."
   ]
  },
  {
   "cell_type": "code",
   "execution_count": 6,
   "metadata": {},
   "outputs": [
    {
     "data": {
      "text/html": [
       "<table>\n",
       "<thead><tr><th scope=col>V1</th><th scope=col>V2</th><th scope=col>V3</th><th scope=col>V4</th><th scope=col>V5</th><th scope=col>V6</th><th scope=col>V7</th><th scope=col>V8</th><th scope=col>V9</th><th scope=col>V10</th></tr></thead>\n",
       "<tbody>\n",
       "\t<tr><td>201906                      </td><td>1                           </td><td>MARK PRICE TEXTILES         </td><td>''TWO HOOTS''               </td><td>MELTON ROAD                 </td><td>HICKLING PASTURES           </td><td>LEICESTER                   </td><td>                            </td><td>LE14 3QG                    </td><td>58064000                    </td></tr>\n",
       "\t<tr><td>201906                      </td><td>1                           </td><td>PETER GRAHAM WHITEHEAD      </td><td>'A' HANGAR                  </td><td>SLEAP AIRFIELD              </td><td>HARMER HILL                 </td><td>SHREWSBURY                  </td><td>                            </td><td>SY4 3HE                     </td><td>84812010                    </td></tr>\n",
       "\t<tr><td>201906                                                                  </td><td>1                                                                       </td><td><span style=white-space:pre-wrap>F D COPELAND &amp; SONS LTD     </span></td><td>'COLANOL HOUSE'                                                         </td><td>5 WESTFIELD STREET                                                      </td><td><span style=white-space:pre-wrap>WOOLWICH         </span>               </td><td><span style=white-space:pre-wrap>LONDON    </span>                      </td><td>                                                                        </td><td>SE18 5TL                                                                </td><td>29052990                                                                </td></tr>\n",
       "\t<tr><td>201906                      </td><td>1                           </td><td>FESTIVE PRODUCTIONS LTD     </td><td>'OTTERS BROOK'              </td><td>TY COCH WAY                 </td><td>CWMBRAN                     </td><td>                            </td><td>                            </td><td>NP44 7XE                    </td><td>39199080                    </td></tr>\n",
       "\t<tr><td>201906                      </td><td>1                           </td><td>MAHALINGAM PARTHIPAN        </td><td>04 BEFORD ROAD              </td><td>EASTHAM                     </td><td>LONDON                      </td><td>                            </td><td>                            </td><td>E6 2NN                      </td><td>       3                    </td></tr>\n",
       "\t<tr><td>201906                      </td><td>1                           </td><td>LIVERPOOL ENTERPRISE LIMITED</td><td>09 PAUL STREET              </td><td>LIVERPOOL                   </td><td>                            </td><td>                            </td><td>                            </td><td>L3 6DX                      </td><td>70023900                    </td></tr>\n",
       "</tbody>\n",
       "</table>\n"
      ],
      "text/latex": [
       "\\begin{tabular}{r|llllllllll}\n",
       " V1 & V2 & V3 & V4 & V5 & V6 & V7 & V8 & V9 & V10\\\\\n",
       "\\hline\n",
       "\t 201906                       & 1                            & MARK PRICE TEXTILES          & ''TWO HOOTS''                & MELTON ROAD                  & HICKLING PASTURES            & LEICESTER                    &                              & LE14 3QG                     & 58064000                    \\\\\n",
       "\t 201906                       & 1                            & PETER GRAHAM WHITEHEAD       & 'A' HANGAR                   & SLEAP AIRFIELD               & HARMER HILL                  & SHREWSBURY                   &                              & SY4 3HE                      & 84812010                    \\\\\n",
       "\t 201906                         & 1                              & F D COPELAND \\& SONS LTD      & 'COLANOL HOUSE'                & 5 WESTFIELD STREET             & WOOLWICH                       & LONDON                         &                                & SE18 5TL                       & 29052990                      \\\\\n",
       "\t 201906                       & 1                            & FESTIVE PRODUCTIONS LTD      & 'OTTERS BROOK'               & TY COCH WAY                  & CWMBRAN                      &                              &                              & NP44 7XE                     & 39199080                    \\\\\n",
       "\t 201906                       & 1                            & MAHALINGAM PARTHIPAN         & 04 BEFORD ROAD               & EASTHAM                      & LONDON                       &                              &                              & E6 2NN                       &        3                    \\\\\n",
       "\t 201906                       & 1                            & LIVERPOOL ENTERPRISE LIMITED & 09 PAUL STREET               & LIVERPOOL                    &                              &                              &                              & L3 6DX                       & 70023900                    \\\\\n",
       "\\end{tabular}\n"
      ],
      "text/markdown": [
       "\n",
       "V1 | V2 | V3 | V4 | V5 | V6 | V7 | V8 | V9 | V10 | \n",
       "|---|---|---|---|---|---|\n",
       "| 201906                       | 1                            | MARK PRICE TEXTILES          | ''TWO HOOTS''                | MELTON ROAD                  | HICKLING PASTURES            | LEICESTER                    |                              | LE14 3QG                     | 58064000                     | \n",
       "| 201906                       | 1                            | PETER GRAHAM WHITEHEAD       | 'A' HANGAR                   | SLEAP AIRFIELD               | HARMER HILL                  | SHREWSBURY                   |                              | SY4 3HE                      | 84812010                     | \n",
       "| 201906                       | 1                            | F D COPELAND & SONS LTD      | 'COLANOL HOUSE'              | 5 WESTFIELD STREET           | WOOLWICH                     | LONDON                       |                              | SE18 5TL                     | 29052990                     | \n",
       "| 201906                       | 1                            | FESTIVE PRODUCTIONS LTD      | 'OTTERS BROOK'               | TY COCH WAY                  | CWMBRAN                      |                              |                              | NP44 7XE                     | 39199080                     | \n",
       "| 201906                       | 1                            | MAHALINGAM PARTHIPAN         | 04 BEFORD ROAD               | EASTHAM                      | LONDON                       |                              |                              | E6 2NN                       |        3                     | \n",
       "| 201906                       | 1                            | LIVERPOOL ENTERPRISE LIMITED | 09 PAUL STREET               | LIVERPOOL                    |                              |                              |                              | L3 6DX                       | 70023900                     | \n",
       "\n",
       "\n"
      ],
      "text/plain": [
       "  V1     V2 V3                           V4              V5                \n",
       "1 201906 1  MARK PRICE TEXTILES          ''TWO HOOTS''   MELTON ROAD       \n",
       "2 201906 1  PETER GRAHAM WHITEHEAD       'A' HANGAR      SLEAP AIRFIELD    \n",
       "3 201906 1  F D COPELAND & SONS LTD      'COLANOL HOUSE' 5 WESTFIELD STREET\n",
       "4 201906 1  FESTIVE PRODUCTIONS LTD      'OTTERS BROOK'  TY COCH WAY       \n",
       "5 201906 1  MAHALINGAM PARTHIPAN         04 BEFORD ROAD  EASTHAM           \n",
       "6 201906 1  LIVERPOOL ENTERPRISE LIMITED 09 PAUL STREET  LIVERPOOL         \n",
       "  V6                V7         V8 V9       V10     \n",
       "1 HICKLING PASTURES LEICESTER     LE14 3QG 58064000\n",
       "2 HARMER HILL       SHREWSBURY    SY4 3HE  84812010\n",
       "3 WOOLWICH          LONDON        SE18 5TL 29052990\n",
       "4 CWMBRAN                         NP44 7XE 39199080\n",
       "5 LONDON                          E6 2NN          3\n",
       "6                                 L3 6DX   70023900"
      ]
     },
     "metadata": {},
     "output_type": "display_data"
    }
   ],
   "source": [
    "# Clean up the empty columns\n",
    "df_modified <- df[,c(1:10)]\n",
    "head(df_modified)"
   ]
  },
  {
   "cell_type": "markdown",
   "metadata": {},
   "source": [
    "#### Step 2: Save Dataframe to S3 as CSV\n"
   ]
  },
  {
   "cell_type": "code",
   "execution_count": 7,
   "metadata": {},
   "outputs": [],
   "source": [
    "utils::write.csv(df_modified, 'data/importers_mod_R.csv')"
   ]
  },
  {
   "cell_type": "markdown",
   "metadata": {},
   "source": [
    "#### Step 3: Download CSV to Local machine \n",
    "\n",
    "<img src=\"/templates/demo2s9.png\" alt=\"Drawing\" style=\"width: 400px;\"/>\n",
    "\n",
    "#### Step 4: Check result\n",
    "\n",
    "<img src=\"/templates/demo2s10.png\" alt=\"Drawing\" style=\"width: 800px;\"/>"
   ]
  },
  {
   "cell_type": "code",
   "execution_count": null,
   "metadata": {},
   "outputs": [],
   "source": []
  }
 ],
 "metadata": {
  "kernelspec": {
   "display_name": "R",
   "language": "R",
   "name": "ir"
  },
  "language_info": {
   "codemirror_mode": "r",
   "file_extension": ".r",
   "mimetype": "text/x-r-source",
   "name": "R",
   "pygments_lexer": "r",
   "version": "3.4.1"
  }
 },
 "nbformat": 4,
 "nbformat_minor": 2
}
